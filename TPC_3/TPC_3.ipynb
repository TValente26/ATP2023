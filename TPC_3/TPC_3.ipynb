{
 "cells": [
  {
   "cell_type": "markdown",
   "metadata": {},
   "source": [
    "## TPC3: Adivinha o número!?\n",
    "\n",
    "Desenvolve em Python o código necessário para o jogo do Adivinha o número: \n",
    "* O jogo deverá ter dois modos: o computador tenta acertar no número que o jogador pensou ou, o jogador tenta acertar no número que o computador pensou; \n",
    "* No fim, o programa deverá indicar quantas tentativas foram realizadas para chegar ao resultado;\n",
    "* O Jogo: \n",
    "    - o utilizador pensa num número entre 0 e 100;\n",
    "    - o computador tenta adivinhar indicando um número do intervalo;\n",
    "    - o utilizador indica se o número em que pensou é **maior**, **menor**, ou se o computador **acertou**;\n",
    "    - ao terminar, o programa imprime o número de tentativas que o computador teve de fazer até chegar ao número.\n",
    "\n",
    "Que conclusão podes tirar sobre o número de tentativas necessárias para um número entre 0 e 100? E se fosse entre 0 e 1000?"
   ]
  },
  {
   "cell_type": "code",
   "execution_count": null,
   "metadata": {},
   "outputs": [],
   "source": [
    "modo = int ( input (\"Escolha um modo de jogo      1-Computador advinha o teu número             2-Advinha o número do computador\"))\n",
    "sup = 100\n",
    "inf = 0\n",
    "n = 0\n",
    "x = 0\n",
    "a = 1\n",
    "if modo == 2:\n",
    "    import random\n",
    "    r = random.randrange (1,100)\n",
    "    n = int (input (\"Diga um número\"))\n",
    "    while r != n:\n",
    "        a = a + 1\n",
    "        if r>n:\n",
    "            print (\"Maior\")\n",
    "        else:\n",
    "            print (\"Menor\")\n",
    "        n =  int (input (\"Diga um número\"))\n",
    "    print (\"Acertou em \", a , \"tentativas!\")\n",
    "elif modo == 1:\n",
    "    pergunta = str()\n",
    "    acertou = \"acertou\"\n",
    "    while pergunta != acertou:\n",
    "        x = x + 1\n",
    "        n = int ((sup + inf) / 2)\n",
    "        pergunta = input (\"O seu número é \"+ str(n) + \"?\")\n",
    "        if pergunta == \"Maior\":\n",
    "            inf = n\n",
    "        else:\n",
    "            sup = n\n",
    "    print (\"O computador advinhou o número em \" + str(x) + \" tentativas\")"
   ]
  }
 ],
 "metadata": {
  "kernelspec": {
   "display_name": "Python 3",
   "language": "python",
   "name": "python3"
  },
  "language_info": {
   "codemirror_mode": {
    "name": "ipython",
    "version": 3
   },
   "file_extension": ".py",
   "mimetype": "text/x-python",
   "name": "python",
   "nbconvert_exporter": "python",
   "pygments_lexer": "ipython3",
   "version": "3.11.5"
  },
  "orig_nbformat": 4
 },
 "nbformat": 4,
 "nbformat_minor": 2
}
